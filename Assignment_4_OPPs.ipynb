{
  "nbformat": 4,
  "nbformat_minor": 0,
  "metadata": {
    "colab": {
      "provenance": []
    },
    "kernelspec": {
      "name": "python3",
      "display_name": "Python 3"
    },
    "language_info": {
      "name": "python"
    }
  },
  "cells": [
    {
      "cell_type": "markdown",
      "source": [
        "#OPPs"
      ],
      "metadata": {
        "id": "1prQbk3G4Th-"
      }
    },
    {
      "cell_type": "markdown",
      "source": [
        "Assignment Questions\n",
        "OPPs\n",
        "\n",
        "Q1. What is Object-Oriented Programming (OOP)?\n",
        "  - Solution-Object-Oriented Programming (OOP) is a programming paradigm which organizes software design around objects rather than functions and logic\n",
        "  \n",
        "Q2. What is a class in OOP?\n",
        "  - Solution- A class is a blueprint for creating objects. It defines the structure and behavior of objects, including their attributes (data) and methods (functions).\n",
        "\n",
        "Q3. What is an object in OOP?\n",
        "  - Solution – An object is an instance of a class that encapsulates both data (attributes) and behavior (methods).\n",
        "\n",
        "Q4. What is the difference between abstraction and encapsulation?\n",
        "  - Solution -Abstraction focuses on hiding complex implementation details and showing only the relevant features of an object. On the other hand, Encapsulation focuses on restricting direct access to the internal details of an object to maintain security and integrity.\n",
        "\n",
        "Q5. What are dunder methods in Python?\n",
        "  - Solution- Dunder methods, also known as magic methods, are special methods in Python that begin and end with double underscores. We can customize how objects behave in certain situations.\n",
        "\n",
        "Q6. Explain the concept of inheritance in OOP?\n",
        "  - Solution- Inheritance in OOPs is a mechanism where a new class (subclass or child class) can inherit properties and methods from an existing class (superclass or parent class).\n",
        "\n",
        "Q7. What is polymorphism in OOP?\n",
        "  - Solution- It enables one interface to be used for different data types or classes, making code more flexible and reusable.\n",
        "\n",
        "Q8. How is encapsulation achieved in Python?\n",
        "  - Solution- We can do this bt restricting access to attributes and methods, effectively hiding the internal state of an object and preventing unintended external modifications.\n",
        "\n",
        "Q9. What is a constructor in Python?\n",
        "  - Solution -It is a special method within a class that initializes the attributes of an object when the object is created.\n",
        "\n",
        "Q10. What are class and static methods in Python?\n",
        "  - Solution -Class Methods:\n",
        "-bound to the class and not the instance of the class.\n",
        "-can access and modify class-level attributes\n",
        "-defined using the @classmethod decorator.\n",
        "-called using the class name, e.g., ClassName.method()\n",
        "Static Methods:\n",
        "-not bound to the class or the instance.\n",
        "-do not receive any special first argument.\n",
        "-are defined using the @staticmethod decorator.\n",
        "-are called using the class name, e.g., ClassName.method().\n",
        "\n",
        "Q11. What is method overloading in Python?\n",
        "  - Solution -Method overloading refers to the ability to define multiple methods with the same name within a class, but with different parameters.\n",
        "\n",
        "Q12. What is method overriding in OOP?\n",
        "  - Solution -Method overriding allows a subclass to provide a specific implementation of a method that is already defined in its superclass.\n",
        "\n",
        "Q13. What is a property decorator in Python?\n",
        "  - Solution - A property decorator allows methods to be accessed like attributes. It gives a way to encapsulate the logic for getting, setting, and deleting an attribute within a class.\n",
        "\n",
        "Q14. Why is polymorphism important in OOP?\n",
        "  - Solution - It enables objects of different classes to be treated as objects of a common type, promoting code reusability, flexibility, and maintainability.\n",
        "\n",
        "Q15. What is an abstract class in Python?\n",
        "  - Solution - It is a class that cannot be instantiated directly and serves as a blueprint for other classes. It defines a common interface for a group of related classes and ensures that subclasses implement specific methods.\n",
        "\n",
        "Q16. What are the advantages of OOP?\n",
        "  - Solution – OOPs offers several advantages, primarily enhancing code organization, reusability, and maintainability\n",
        "\n",
        "Q17. What is the difference between a class variable and an instance variable?\n",
        "  - Solution -Major difference between a class variable and an instance variable is their scope and how they are shared.\n",
        "\n",
        "Q18. What is multiple inheritance in Python?\n",
        "  - Solution - In Python this is a feature that allows a class to inherit attributes and methods from more than one parent class.\n",
        "\n",
        "Q19. Explain the purpose of ‘’__str__’ and ‘__repr__’ ‘ methods in Python.\n",
        "  - Solution -the __str__ and __repr__ methods are special methods used to define how objects are represented as strings.\n",
        "\n",
        "Q20. What is the significance of the ‘super()’ function in Python?\n",
        "  - Solution -Some of the significances are-\n",
        "Calling Parent Class Methods: It allows a subclass to invoke methods from its parent class without explicitly naming the parent class.\n",
        "Avoiding Redundant Code: Instead of rewriting the parent class's logic, super() helps reuse existing functionality, reducing duplication.\n",
        "\n",
        "Q21. What is the significance of the __del__ method in Python?\n",
        "  - Solution - The __del__ method in Python, also known as a destructor, is called when an object is garbage collected.\n",
        "\n",
        "Q22. What is the difference between @staticmethod and @classmethod in Python?\n",
        "  - Solution - @staticmethod:\n",
        "It's essentially a regular function placed inside a class for organizational purposes\n",
        "It belongs to the class but does not have access to the class itself instances.\n",
        "It cannot modify the class or object state.\n",
        "@classmethod:\n",
        "It can access and modify class-level attributes\n",
        "It is bound to the class and not the instance of the class.\n",
        "\n",
        "Q23. How does polymorphism work in Python with inheritance?\n",
        "  - Solution -Polymorphism, meaning \"many forms,\" enables objects of different classes to respond to the same method call in their own specific ways.\n",
        "\n",
        "Q24. What is method chaining in Python OOP?\n",
        "  - Solution -It is a programming used in object-oriented programming where multiple methods are called sequentially on the same object in a single statement.\n",
        "\n",
        "Q25. What is the purpose of the __call__ method in Python?\n",
        "  - Solution - The __call__ method enables instances of a class to be called like regular functions. When a class defines the __call__ method, its instances become callable objects.\n"
      ],
      "metadata": {
        "id": "nb_alWqi4kSk"
      }
    },
    {
      "cell_type": "markdown",
      "source": [
        "#Practical Questions"
      ],
      "metadata": {
        "id": "U5jvEjax6R9S"
      }
    },
    {
      "cell_type": "code",
      "source": [
        "#Q1.  Create a parent class Animal with a method speak() that prints a generic\n",
        "#message. Create a child class Dogthat overrides the speak() method to print\n",
        "#\"Bark!\".\n",
        "class Animal:\n",
        "    def speak(self):\n",
        "        print(\"This animal makes a sound\")\n",
        "\n",
        "class Dog(Animal):\n",
        "    def speak(self):\n",
        "        print(\"Bark!\")\n",
        "\n",
        "a = Animal()\n",
        "a.speak()\n",
        "d = Dog()\n",
        "d.speak()"
      ],
      "metadata": {
        "colab": {
          "base_uri": "https://localhost:8080/"
        },
        "id": "7plEaKIR4g3j",
        "outputId": "8a0aedb6-f716-4f2c-b008-10bc12896a58"
      },
      "execution_count": 2,
      "outputs": [
        {
          "output_type": "stream",
          "name": "stdout",
          "text": [
            "This animal makes a sound\n",
            "Bark!\n"
          ]
        }
      ]
    },
    {
      "cell_type": "code",
      "source": [
        "# Q2. Write a program to create an abstract class Shape with a method area().\n",
        "# Derive classes Circle and Rectangle from it and implement the area() method in\n",
        "# both.\n",
        "from abc import ABC, abstractmethod\n",
        "class Shape(ABC):\n",
        "    @abstractmethod\n",
        "    def area(self):\n",
        "        pass\n",
        "class Circle(Shape):\n",
        "    def __init__(self, radius):\n",
        "        self.radius = radius\n",
        "\n",
        "    def area(self):\n",
        "        return 3.14 * self.radius ** 2\n",
        "\n",
        "class Rectangle(Shape):\n",
        "    def __init__(self, length, width):\n",
        "        self.length = length\n",
        "        self.width = width\n",
        "\n",
        "    def area(self):\n",
        "        return self.length * self.width\n",
        "\n",
        "c = Circle(5)\n",
        "print(\"Area of Circle:\", c.area())\n",
        "\n",
        "r = Rectangle(4, 6)\n",
        "print(\"Area of Rectangle:\", r.area())"
      ],
      "metadata": {
        "colab": {
          "base_uri": "https://localhost:8080/"
        },
        "id": "PiChvWAn8u_N",
        "outputId": "2a14ab1f-5089-435d-d6fd-1581e5534b79"
      },
      "execution_count": 3,
      "outputs": [
        {
          "output_type": "stream",
          "name": "stdout",
          "text": [
            "Area of Circle: 78.5\n",
            "Area of Rectangle: 24\n"
          ]
        }
      ]
    },
    {
      "cell_type": "code",
      "source": [
        "# Q3. Implement a multi-level inheritance scenario where a class Vehicle has an\n",
        "# attribute type. Derive a class Car and further derive a class ElectricCar that\n",
        "# adds a battery attribute.\n",
        "class Vehicle:\n",
        "    def __init__(self, type):\n",
        "        self.type = type\n",
        "\n",
        "    def display_info(self):\n",
        "        print(f\"Type: {self.type}\")\n",
        "\n",
        "class Car(Vehicle):\n",
        "    def __init__(self, type, brand):\n",
        "        super().__init__(type)\n",
        "        self.brand = brand\n",
        "\n",
        "    def display_info(self):\n",
        "        super().display_info()\n",
        "        print(f\"Brand: {self.brand}\")\n",
        "\n",
        "class ElectricCar(Car):\n",
        "    def __init__(self, type, brand, battery):\n",
        "        super().__init__(type, brand)\n",
        "        self.battery = battery\n",
        "\n",
        "    def display_info(self):\n",
        "        super().display_info()\n",
        "        print(f\"Battery Capacity: {self.battery} kWh\")\n",
        "\n",
        "ecar = ElectricCar(\"Sedan\", \"Tesla\", 75)\n",
        "ecar.display_info()"
      ],
      "metadata": {
        "colab": {
          "base_uri": "https://localhost:8080/"
        },
        "id": "Wze3W8_J9N3u",
        "outputId": "14f76f4a-e8a7-4b34-d76a-7b1b0f8d287d"
      },
      "execution_count": 4,
      "outputs": [
        {
          "output_type": "stream",
          "name": "stdout",
          "text": [
            "Type: Sedan\n",
            "Brand: Tesla\n",
            "Battery Capacity: 75 kWh\n"
          ]
        }
      ]
    },
    {
      "cell_type": "code",
      "source": [
        "# Q4. Demonstrate polymorphism by creating a base class Bird with a method\n",
        "# fly(). Create two derived classes Sparrow and Penguin that override the fly()\n",
        "# method.\n",
        "class Bird:\n",
        "    def fly(self):\n",
        "        print(\"Some birds can fly!\")\n",
        "\n",
        "class Sparrow(Bird):\n",
        "    def fly(self):\n",
        "        print(\"Sparrow flies swiftly in the sky!\")\n",
        "\n",
        "class Penguin(Bird):\n",
        "    def fly(self):\n",
        "        print(\"Penguins cannot fly, but they swim gracefully!\")\n",
        "\n",
        "birds = [Sparrow(), Penguin()]\n",
        "\n",
        "for bird in birds:\n",
        "  bird.fly()"
      ],
      "metadata": {
        "colab": {
          "base_uri": "https://localhost:8080/"
        },
        "id": "IMI1Ou4i9s35",
        "outputId": "53cfc47d-7fc4-4eb1-b5b7-aff9fa573f5b"
      },
      "execution_count": 8,
      "outputs": [
        {
          "output_type": "stream",
          "name": "stdout",
          "text": [
            "Sparrow flies swiftly in the sky!\n",
            "Penguins cannot fly, but they swim gracefully!\n"
          ]
        }
      ]
    },
    {
      "cell_type": "code",
      "source": [
        "# Q5. Write a program to demonstrate encapsulation by creating a class\n",
        "# BankAccount with private attributes balance and methods to deposit, withdraw,\n",
        "# and check balance.\n",
        "class BankAccount:\n",
        "    def __init__(self, account_number, initial_balance):\n",
        "        self.account_number = account_number\n",
        "        self.__balance = initial_balance  # Private attribute\n",
        "\n",
        "    def deposit(self, amount):\n",
        "        if amount > 0:\n",
        "            self.__balance += amount\n",
        "            print(f\"Deposited ₹{amount}. New balance: ₹{self.__balance}\")\n",
        "        else:\n",
        "            print(\"Deposit amount must be positive!\")\n",
        "\n",
        "    def withdraw(self, amount):\n",
        "        if 0 < amount <= self.__balance:\n",
        "            self.__balance -= amount\n",
        "            print(f\"Withdrawn ₹{amount}. Remaining balance: ₹{self.__balance}\")\n",
        "        else:\n",
        "            print(\"Insufficient balance or invalid amount!\")\n",
        "\n",
        "    def check_balance(self):\n",
        "        print(f\"Current balance: ₹{self.__balance}\")\n",
        "\n",
        "# Example usage\n",
        "account = BankAccount(\"12345678\", 15000)\n",
        "account.deposit(1456700000)\n",
        "account.withdraw(230000)\n",
        "account.check_balance()"
      ],
      "metadata": {
        "colab": {
          "base_uri": "https://localhost:8080/"
        },
        "id": "acMCBAl5-Cdq",
        "outputId": "093e2548-1794-4146-ff4b-d17f2a06793e"
      },
      "execution_count": 10,
      "outputs": [
        {
          "output_type": "stream",
          "name": "stdout",
          "text": [
            "Deposited ₹1456700000. New balance: ₹1456715000\n",
            "Withdrawn ₹230000. Remaining balance: ₹1456485000\n",
            "Current balance: ₹1456485000\n"
          ]
        }
      ]
    },
    {
      "cell_type": "code",
      "source": [
        "# Q6. Demonstrate runtime polymorphism using a method play() in a base class\n",
        "# Instrument. Derive classes Guitar and Piano that implement their own version\n",
        "# of play().\n",
        "class Instrument:\n",
        "    def play(self):\n",
        "        print(\"Playing an instrument...\")\n",
        "\n",
        "class Guitar(Instrument):\n",
        "    def play(self):\n",
        "        print(\"Strumming the guitar!\")\n",
        "\n",
        "class Piano(Instrument):\n",
        "    def play(self):\n",
        "        print(\"Playing the piano keys!\")\n",
        "\n",
        "instruments = [Guitar(), Piano()]\n",
        "\n",
        "for inst in instruments:\n",
        "    inst.play()"
      ],
      "metadata": {
        "colab": {
          "base_uri": "https://localhost:8080/"
        },
        "id": "1stSaovf-s-X",
        "outputId": "c8a6db2e-b9d8-478c-8192-725cc644c10e"
      },
      "execution_count": 11,
      "outputs": [
        {
          "output_type": "stream",
          "name": "stdout",
          "text": [
            "Strumming the guitar!\n",
            "Playing the piano keys!\n"
          ]
        }
      ]
    },
    {
      "cell_type": "code",
      "source": [
        "# Q7. Create a class MathOperations with a class method add_numbers() to add two\n",
        "# numbers and a static method subtract_numbers() to subtract two numbers.\n",
        "class MathOperations:\n",
        "    @classmethod\n",
        "    def add_numbers(cls, a, b):\n",
        "        return a + b\n",
        "    @staticmethod\n",
        "    def subtract_numbers(a, b):\n",
        "        return a - b\n",
        "print(\"Addition:\", MathOperations.add_numbers(7, 1))\n",
        "print(\"Subtraction:\", MathOperations.subtract_numbers(25, 16))"
      ],
      "metadata": {
        "colab": {
          "base_uri": "https://localhost:8080/"
        },
        "id": "dptJq0ou_MdO",
        "outputId": "d637ed0e-e829-400b-926e-3e5dd91b3c8e"
      },
      "execution_count": 12,
      "outputs": [
        {
          "output_type": "stream",
          "name": "stdout",
          "text": [
            "Addition: 8\n",
            "Subtraction: 9\n"
          ]
        }
      ]
    },
    {
      "cell_type": "code",
      "source": [
        "# Q8. Implement a class Person with a class method to count the total number of\n",
        "# persons created.\n",
        "class Person:\n",
        "    count = 0\n",
        "\n",
        "    def __init__(self, name):\n",
        "        self.name = name\n",
        "        Person.count += 1\n",
        "\n",
        "    @classmethod\n",
        "    def total_persons(cls):\n",
        "        return f\"Total persons created: {cls.count}\"\n",
        "\n",
        "\n",
        "p1 = Person(\"Aanu\")\n",
        "p2 = Person(\"Baanu\")\n",
        "p3 = Person(\"Csaanu\")\n",
        "\n",
        "print(Person.total_persons())"
      ],
      "metadata": {
        "colab": {
          "base_uri": "https://localhost:8080/"
        },
        "id": "G5-QkpG3_n77",
        "outputId": "e769e271-6836-493b-f846-045a8ceadcdd"
      },
      "execution_count": 13,
      "outputs": [
        {
          "output_type": "stream",
          "name": "stdout",
          "text": [
            "Total persons created: 3\n"
          ]
        }
      ]
    },
    {
      "cell_type": "code",
      "source": [
        "# Q9. Write a class Fraction with attributes numerator and denominator. Override\n",
        "# the str method to display the fraction as \"numerator/denominator\".\n",
        "class Fraction:\n",
        "    def __init__(self, numerator, denominator):\n",
        "        self.numerator = numerator\n",
        "        self.denominator = denominator\n",
        "\n",
        "    def __str__(self):\n",
        "        return f\"{self.numerator}/{self.denominator}\"\n",
        "\n",
        "frac1 = Fraction(3, 4)\n",
        "frac2 = Fraction(7, 2)\n",
        "\n",
        "print(frac1)\n",
        "print(frac2)"
      ],
      "metadata": {
        "colab": {
          "base_uri": "https://localhost:8080/"
        },
        "id": "0WDafqRYAOTq",
        "outputId": "74853870-4e33-480c-ed8c-fb7297ea8a4c"
      },
      "execution_count": 14,
      "outputs": [
        {
          "output_type": "stream",
          "name": "stdout",
          "text": [
            "3/4\n",
            "7/2\n"
          ]
        }
      ]
    },
    {
      "cell_type": "code",
      "source": [
        "# Q10. Demonstrate operator overloading by creating a class Vector and\n",
        "# overriding the add method to add two vectors.\n",
        "class Vector:\n",
        "    def __init__(self, x, y):\n",
        "        self.x = x\n",
        "        self.y = y\n",
        "\n",
        "    def __add__(self, other):\n",
        "        return Vector(self.x + other.x, self.y + other.y)\n",
        "\n",
        "    def __str__(self):\n",
        "        return f\"({self.x}, {self.y})\"\n",
        "\n",
        "v1 = Vector(2, 3)\n",
        "v2 = Vector(4, 1)\n",
        "\n",
        "result = v1 + v2\n",
        "print(\"Sum of vectors:\", result)"
      ],
      "metadata": {
        "colab": {
          "base_uri": "https://localhost:8080/"
        },
        "id": "mFCS0sanAgP0",
        "outputId": "bc6c2bdf-c7f8-4095-d0ff-43ed71f6904f"
      },
      "execution_count": 15,
      "outputs": [
        {
          "output_type": "stream",
          "name": "stdout",
          "text": [
            "Sum of vectors: (6, 4)\n"
          ]
        }
      ]
    },
    {
      "cell_type": "code",
      "source": [
        "# Q11. Create a class Person with attributes name and age. Add a method greet()\n",
        "# that prints \"Hello, my name is {name} and I am {age} years old.\"\n",
        "class Person:\n",
        "    def __init__(self, name, age):\n",
        "        self.name = name\n",
        "        self.age = age\n",
        "\n",
        "    def greet(self):\n",
        "        print(f\"Hello, my name is {self.name} and I am {self.age} years old.\")\n",
        "\n",
        "\n",
        "p1 = Person(\"Pawan\", 35)\n",
        "p1.greet()\n"
      ],
      "metadata": {
        "colab": {
          "base_uri": "https://localhost:8080/"
        },
        "id": "5epKzA59BOZT",
        "outputId": "75736457-0bd1-465e-bd8d-3d13dd44f1aa"
      },
      "execution_count": 17,
      "outputs": [
        {
          "output_type": "stream",
          "name": "stdout",
          "text": [
            "Hello, my name is Pawan and I am 35 years old.\n"
          ]
        }
      ]
    },
    {
      "cell_type": "code",
      "source": [
        "# Q12. Implement a class Student with attributes name and grades. Create a\n",
        "# method average_grade() to compute the average of the grades.\n",
        "class Student:\n",
        "    def __init__(self, name, grades):\n",
        "        self.name = name\n",
        "        self.grades = grades  # List of grades\n",
        "\n",
        "    def average_grade(self):\n",
        "        return sum(self.grades) / len(self.grades) if self.grades else 0\n",
        "\n",
        "# Example usage\n",
        "s1 = Student(\"Pawan\", [89, 90, 99])\n",
        "s2 = Student(\"Bhavna\", [92, 88, 96])\n",
        "\n",
        "print(f\"{s1.name}'s average grade: {s1.average_grade()}\")\n",
        "print(f\"{s2.name}'s average grade: {s2.average_grade()}\")"
      ],
      "metadata": {
        "colab": {
          "base_uri": "https://localhost:8080/"
        },
        "id": "Hdh7YujnB3uJ",
        "outputId": "1f9c9ace-e7df-45bb-d174-cf41ac640383"
      },
      "execution_count": 18,
      "outputs": [
        {
          "output_type": "stream",
          "name": "stdout",
          "text": [
            "Pawan's average grade: 92.66666666666667\n",
            "Bhavna's average grade: 92.0\n"
          ]
        }
      ]
    },
    {
      "cell_type": "code",
      "source": [
        "# Q13. Create a class Rectangle with methods set_dimensions() to set the\n",
        "# dimensions and area() to calculate the area.\n",
        "class Rectangle:\n",
        "    def __init__(self):\n",
        "        self.length = 0\n",
        "        self.width = 0\n",
        "\n",
        "    def set_dimensions(self, length, width):\n",
        "        self.length = length\n",
        "        self.width = width\n",
        "\n",
        "    def area(self):\n",
        "        return self.length * self.width\n",
        "\n",
        "rect = Rectangle()\n",
        "rect.set_dimensions(8, 18)\n",
        "print(\"Area of rectangle:\", rect.area())"
      ],
      "metadata": {
        "colab": {
          "base_uri": "https://localhost:8080/"
        },
        "id": "SZIAuC4QCgf1",
        "outputId": "c998ee0a-f86f-4756-82d1-7dd4f7b49b1e"
      },
      "execution_count": 20,
      "outputs": [
        {
          "output_type": "stream",
          "name": "stdout",
          "text": [
            "Area of rectangle: 144\n"
          ]
        }
      ]
    },
    {
      "cell_type": "code",
      "source": [
        "# Q14. Create a class Employee with a method calculate_salary() that computes\n",
        "# the salary based on hours worked and hourly rate. Create a derived class\n",
        "# Manager that adds a bonus to the salary.\n",
        "class Employee:\n",
        "    def __init__(self, name, hours_worked, hourly_rate):\n",
        "        self.name = name\n",
        "        self.hours_worked = hours_worked\n",
        "        self.hourly_rate = hourly_rate\n",
        "\n",
        "    def calculate_salary(self):\n",
        "        return self.hours_worked * self.hourly_rate\n",
        "\n",
        "class Manager(Employee):\n",
        "    def __init__(self, name, hours_worked, hourly_rate, bonus):\n",
        "        super().__init__(name, hours_worked, hourly_rate)\n",
        "        self.bonus = bonus\n",
        "\n",
        "    def calculate_salary(self):\n",
        "        return super().calculate_salary() + self.bonus\n",
        "\n",
        "# Example usage\n",
        "emp = Employee(\"Sam\", 40, 50)\n",
        "mgr = Manager(\"Bob\", 40, 50, 2000)\n",
        "\n",
        "print(f\"{emp.name}'s Salary: ₹{emp.calculate_salary()}\")\n",
        "print(f\"{mgr.name}'s Salary: ₹{mgr.calculate_salary()}\")"
      ],
      "metadata": {
        "colab": {
          "base_uri": "https://localhost:8080/"
        },
        "id": "ckxAGROpDgyC",
        "outputId": "6c4dfc8d-77cd-4399-afd3-77588f87cd8e"
      },
      "execution_count": 22,
      "outputs": [
        {
          "output_type": "stream",
          "name": "stdout",
          "text": [
            "Sam's Salary: ₹2000\n",
            "Bob's Salary: ₹4000\n"
          ]
        }
      ]
    },
    {
      "cell_type": "code",
      "source": [
        "# Q15. Create a class Product with attributes name, price, and quantity.\n",
        "# Implement a method total_price() that calculates the total price of the\n",
        "# product.\n",
        "class Product:\n",
        "    def __init__(self, name, price, quantity):\n",
        "        self.name = name\n",
        "        self.price = price\n",
        "        self.quantity = quantity\n",
        "\n",
        "    def total_price(self):\n",
        "        return self.price * self.quantity  # Calculate total price\n",
        "\n",
        "# Example usage\n",
        "p1 = Product(\"Laptop\", 50000, 2)\n",
        "p2 = Product(\"Smartphone\", 20000, 3)\n",
        "\n",
        "print(f\"Total price of {p1.name}: ₹{p1.total_price()}\")\n",
        "print(f\"Total price of {p2.name}: ₹{p2.total_price()}\")"
      ],
      "metadata": {
        "colab": {
          "base_uri": "https://localhost:8080/"
        },
        "id": "qwUFWnQzEcJW",
        "outputId": "455f7428-8a90-437f-8e88-0a32a05f55ad"
      },
      "execution_count": 23,
      "outputs": [
        {
          "output_type": "stream",
          "name": "stdout",
          "text": [
            "Total price of Laptop: ₹100000\n",
            "Total price of Smartphone: ₹60000\n"
          ]
        }
      ]
    },
    {
      "cell_type": "code",
      "source": [
        "# Q16. Create a class Animal with an abstract method sound(). Create two derived\n",
        "# classes Cow and Sheep that implement the sound() method.\n",
        "from abc import ABC, abstractmethod\n",
        "\n",
        "class Animal(ABC):\n",
        "    @abstractmethod\n",
        "    def sound(self):\n",
        "        pass\n",
        "\n",
        "class Cow(Animal):\n",
        "    def sound(self):\n",
        "        return \"Moo!\"\n",
        "\n",
        "class Sheep(Animal):\n",
        "    def sound(self):\n",
        "        return \"Baa!\"\n",
        "\n",
        "animals = [Cow(), Sheep()]\n",
        "\n",
        "for animal in animals:\n",
        "    print(f\"{animal.__class__.__name__} says: {animal.sound()}\")"
      ],
      "metadata": {
        "colab": {
          "base_uri": "https://localhost:8080/"
        },
        "id": "hVmO4v5EE9KI",
        "outputId": "903a64e5-b489-4e7b-dbbf-7d21f463e57d"
      },
      "execution_count": 24,
      "outputs": [
        {
          "output_type": "stream",
          "name": "stdout",
          "text": [
            "Cow says: Moo!\n",
            "Sheep says: Baa!\n"
          ]
        }
      ]
    },
    {
      "cell_type": "code",
      "source": [
        "# Q17. Create a class Book with attributes title, author, and year_published.\n",
        "# Add a method get_book_info() that returns a formatted string with the book's\n",
        "# details.\n",
        "class Book:\n",
        "    def __init__(self, title, author, year_published):\n",
        "        self.title = title\n",
        "        self.author = author\n",
        "        self.year_published = year_published\n",
        "\n",
        "    def get_book_info(self):\n",
        "        return f\"'{self.title}' by {self.author}, published in {self.year_published}.\"\n",
        "\n",
        "# Example usage\n",
        "b1 = Book(\"To Kill a Mockingbird\", \"Harper Lee\", 1960)\n",
        "b2 = Book(\"1984\", \"George Orwell\", 1949)\n",
        "\n",
        "print(b1.get_book_info())\n",
        "print(b2.get_book_info())"
      ],
      "metadata": {
        "colab": {
          "base_uri": "https://localhost:8080/"
        },
        "id": "ZUO5VshfFeF0",
        "outputId": "776f8805-4aca-4186-c5d9-10875049ceb5"
      },
      "execution_count": 25,
      "outputs": [
        {
          "output_type": "stream",
          "name": "stdout",
          "text": [
            "'To Kill a Mockingbird' by Harper Lee, published in 1960.\n",
            "'1984' by George Orwell, published in 1949.\n"
          ]
        }
      ]
    },
    {
      "cell_type": "code",
      "source": [],
      "metadata": {
        "id": "VPGHomI8F5PU"
      },
      "execution_count": null,
      "outputs": []
    }
  ]
}